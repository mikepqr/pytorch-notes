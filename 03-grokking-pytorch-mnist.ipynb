{
 "cells": [
  {
   "cell_type": "markdown",
   "metadata": {},
   "source": [
    "# Grokking pytorch notes\n",
    "\n",
    "Notes on [Grokking pytorch](https://github.com/Kaixhin/grokking-pytorch) and the [official MNIST example](https://github.com/pytorch/examples/blob/master/mnist/main.py), MLW, 2018-08-24\n",
    "\n",
    "## Command line scripts"
   ]
  },
  {
   "cell_type": "markdown",
   "metadata": {},
   "source": [
    "```python\n",
    "parser = argparse.ArgumentParser(description='PyTorch MNIST Example')\n",
    "parser.add_argument('--batch-size', type=int, default=64, metavar='N',\n",
    "                    help='input batch size for training (default: 64)')\n",
    "parser.add_argument('--epochs', type=int, default=10, metavar='N',\n",
    "                    help='number of epochs to train (default: 10)')\n",
    "parser.add_argument('--lr', type=float, default=0.01, metavar='LR',\n",
    "                    help='learning rate (default: 0.01)')\n",
    "parser.add_argument('--momentum', type=float, default=0.5, metavar='M',\n",
    "                    help='SGD momentum (default: 0.5)')\n",
    "parser.add_argument('--no-cuda', action='store_true', default=False,\n",
    "                    help='disables CUDA training')\n",
    "parser.add_argument('--seed', type=int, default=1, metavar='S',\n",
    "                    help='random seed (default: 1)')\n",
    "parser.add_argument('--save-interval', type=int, default=10, metavar='N',\n",
    "                    help='how many batches to wait before checkpointing')\n",
    "parser.add_argument('--resume', action='store_true', default=False,\n",
    "                    help='resume training from checkpoint')\n",
    "args = parser.parse_args()\n",
    "```\n",
    "\n",
    "Device-independent prelude.\n",
    "\n",
    "```python\n",
    "use_cuda = torch.cuda.is_available() and not args.no_cuda\n",
    "device = torch.device('cuda' if use_cuda else 'cpu')\n",
    "\n",
    "```\n",
    "\n",
    " You may need to set more seeds (e.g. numpy, scikit-learn) for determinism (and even then...)\n",
    "\n",
    "```python\n",
    "torch.manual_seed(args.seed)\n",
    "if use_cuda:\n",
    "  torch.cuda.manual_seed(args.seed)\n",
    "```"
   ]
  },
  {
   "cell_type": "markdown",
   "metadata": {},
   "source": [
    "## DataLoader\n",
    "\n",
    "Author of grokking pytorch stores torchvision datasets (and others?) under `~/.torch/datasets`.\n",
    "\n",
    "We've already seen the batch_size and shuffle options of DataLoader.\n",
    "\n",
    "The other ones worth knowing about are `num_workers` which loads data asynchronously if `> 0`, and `pin_memory` which makes no difference to CPU code, but keeps the dataset in long term \"pinned\" on the GPU for a speedup ([I think](https://pytorch.org/docs/master/notes/cuda.html#use-pinned-memory-buffers))."
   ]
  },
  {
   "cell_type": "code",
   "execution_count": 1,
   "metadata": {},
   "outputs": [],
   "source": [
    "import os\n",
    "\n",
    "from torchvision import datasets, transforms\n",
    "from torch.utils.data import DataLoader\n",
    "\n",
    "\n",
    "data_path = os.path.join(os.path.expanduser('~'), '.torch', 'datasets', 'mnist')\n",
    "\n",
    "train_data = datasets.MNIST(data_path, train=True, download=True,\n",
    "                            transform=transforms.Compose([\n",
    "                                transforms.ToTensor(),\n",
    "                                transforms.Normalize((0.1307,), (0.3081,))\n",
    "                            ]))\n",
    "test_data = datasets.MNIST(data_path, train=False,\n",
    "                           transform=transforms.Compose([\n",
    "                               transforms.ToTensor(),\n",
    "                               transforms.Normalize((0.1307,), (0.3081,))\n",
    "                           ]))\n",
    "\n",
    "train_loader = DataLoader(train_data, batch_size=64,\n",
    "                          shuffle=True, num_workers=4, pin_memory=True)\n",
    "test_loader = DataLoader(test_data, batch_size=64,\n",
    "                         num_workers=4, pin_memory=True)"
   ]
  },
  {
   "cell_type": "code",
   "execution_count": 2,
   "metadata": {},
   "outputs": [
    {
     "data": {
      "text/plain": [
       "(60000, 10000)"
      ]
     },
     "execution_count": 2,
     "metadata": {},
     "output_type": "execute_result"
    }
   ],
   "source": [
    "len(train_data), len(test_data)  # samples"
   ]
  },
  {
   "cell_type": "code",
   "execution_count": 3,
   "metadata": {},
   "outputs": [
    {
     "data": {
      "text/plain": [
       "(938, 157)"
      ]
     },
     "execution_count": 3,
     "metadata": {},
     "output_type": "execute_result"
    }
   ],
   "source": [
    "len(train_loader), len(test_loader)  # batches"
   ]
  },
  {
   "cell_type": "markdown",
   "metadata": {},
   "source": [
    "## MNIST model\n",
    "\n",
    "\n",
    "Network initialisation typically includes member variables, layers which contain trainable parameters, and maybe separate trainable parameters and non-trainable buffers.\n",
    "\n",
    "The forward pass then uses these in conjunction with functions from `F` that are purely functional (don't contain parameters).\n",
    "\n",
    "According to grokking pytorch \"Some people prefer to have completely functional networks (e.g., keeping parameters separately and using `F.conv2d` instead of `nn.Conv2d`) or networks completely made of layers (e.g., `nn.ReLU` instead of `F.relu`).\" I'm not sure how that works."
   ]
  },
  {
   "cell_type": "code",
   "execution_count": 6,
   "metadata": {},
   "outputs": [],
   "source": [
    "import torch\n",
    "\n",
    "device = torch.device('cuda' if torch.cuda.is_available() else 'cpu')\n",
    "\n",
    "import torch.nn as nn\n",
    "import torch.optim as optim\n",
    "from torch.nn import functional as F\n",
    "\n",
    "class Net(nn.Module):\n",
    "    def __init__(self):\n",
    "        super(Net, self).__init__()\n",
    "        self.conv1 = nn.Conv2d(1, 10, kernel_size=5)\n",
    "        self.conv2 = nn.Conv2d(10, 20, kernel_size=5)\n",
    "        self.conv2_drop = nn.Dropout2d()\n",
    "        self.fc1 = nn.Linear(320, 50)\n",
    "        self.fc2 = nn.Linear(50, 10)\n",
    "\n",
    "    def forward(self, x):\n",
    "        x = F.relu(F.max_pool2d(self.conv1(x), 2))\n",
    "        x = F.relu(F.max_pool2d(self.conv2_drop(self.conv2(x)), 2))\n",
    "        x = x.view(-1, 320)\n",
    "        x = F.relu(self.fc1(x))\n",
    "        x = self.fc2(x)\n",
    "        return F.log_softmax(x, dim=1)"
   ]
  },
  {
   "cell_type": "markdown",
   "metadata": {},
   "source": [
    "It's important to transfer the network parameters to the appropriate device before passing them to the optimiser, otherwise the optimiser will not be keeping track of the parameters properly!\n",
    "\n",
    "I.e. this line..."
   ]
  },
  {
   "cell_type": "code",
   "execution_count": 7,
   "metadata": {},
   "outputs": [],
   "source": [
    "model = Net().to(device)"
   ]
  },
  {
   "cell_type": "markdown",
   "metadata": {},
   "source": [
    "...comes before this one..."
   ]
  },
  {
   "cell_type": "code",
   "execution_count": 8,
   "metadata": {},
   "outputs": [],
   "source": [
    "optimizer = optim.SGD(model.parameters(), lr=0.01, momentum=0.5)"
   ]
  },
  {
   "cell_type": "markdown",
   "metadata": {},
   "source": [
    "model and optimizer can load and save themselves. You're supposed to [save these state_dicts](https://pytorch.org/docs/stable/notes/serialization.html) using the helper methods rather than the entire model."
   ]
  },
  {
   "cell_type": "code",
   "execution_count": 9,
   "metadata": {},
   "outputs": [],
   "source": [
    "args_resume=False\n",
    "\n",
    "if args_resume:\n",
    "  model.load_state_dict(torch.load('model.pth'))\n",
    "  optimizer.load_state_dict(torch.load('optimizer.pth'))"
   ]
  },
  {
   "cell_type": "markdown",
   "metadata": {},
   "source": [
    "Network modules are by default set to training mode - which impacts the way some modules work, most noticeably dropout and batch normalisation. It's best to set this manually anyway with `.train()`, which propagates the training flag down all children modules."
   ]
  },
  {
   "cell_type": "code",
   "execution_count": 10,
   "metadata": {},
   "outputs": [
    {
     "data": {
      "text/plain": [
       "Net(\n",
       "  (conv1): Conv2d(1, 10, kernel_size=(5, 5), stride=(1, 1))\n",
       "  (conv2): Conv2d(10, 20, kernel_size=(5, 5), stride=(1, 1))\n",
       "  (conv2_drop): Dropout2d(p=0.5)\n",
       "  (fc1): Linear(in_features=320, out_features=50, bias=True)\n",
       "  (fc2): Linear(in_features=50, out_features=10, bias=True)\n",
       ")"
      ]
     },
     "execution_count": 10,
     "metadata": {},
     "output_type": "execute_result"
    }
   ],
   "source": [
    "model.train()"
   ]
  },
  {
   "cell_type": "markdown",
   "metadata": {},
   "source": [
    "Train over a single epoch"
   ]
  },
  {
   "cell_type": "code",
   "execution_count": 12,
   "metadata": {},
   "outputs": [
    {
     "name": "stdout",
     "output_type": "stream",
     "text": [
      "0 2.304744005203247\n",
      "100 1.500756025314331\n",
      "200 0.3390892446041107\n",
      "300 0.5793246030807495\n",
      "400 0.34322935342788696\n",
      "500 0.45604729652404785\n",
      "600 0.18978355824947357\n",
      "700 0.1186731681227684\n",
      "800 0.20617105066776276\n",
      "900 0.34539681673049927\n"
     ]
    }
   ],
   "source": [
    "train_losses = []\n",
    "\n",
    "for i, (data, target) in enumerate(train_loader):\n",
    "    # Move batch to device\n",
    "    data, target = data.to(device), target.to(device)\n",
    "\n",
    "    # Before collecting a new set of gradients with loss.backward() and doing \n",
    "    # backpropagation with optimiser.step(), it's necessary to manually zero \n",
    "    # the gradients of the parameters being optimised with optimiser.zero_grad()\n",
    "    optimizer.zero_grad()\n",
    "    output = model(data)\n",
    "    \n",
    "    # Negative log likelihood loss\n",
    "    loss = F.nll_loss(output, target)\n",
    "    loss.backward()\n",
    "    train_losses.append(loss.item())\n",
    "    optimizer.step()\n",
    "\n",
    "    # Checkpoint every 100 batches\n",
    "    if i % 100 == 0:\n",
    "        print(i, loss.item())\n",
    "        torch.save(model.state_dict(), 'model.pth')\n",
    "        torch.save(optimizer.state_dict(), 'optimiser.pth')\n",
    "        torch.save(train_losses, 'train_losses.pth')"
   ]
  },
  {
   "cell_type": "code",
   "execution_count": 13,
   "metadata": {},
   "outputs": [],
   "source": [
    "%matplotlib inline\n",
    "import matplotlib.pyplot as plt"
   ]
  },
  {
   "cell_type": "code",
   "execution_count": 15,
   "metadata": {},
   "outputs": [
    {
     "data": {
      "image/png": "[encoded data removed]",
      "text/plain": [
       "<Figure size 432x288 with 1 Axes>"
      ]
     },
     "metadata": {},
     "output_type": "display_data"
    }
   ],
   "source": [
    "plt.plot(train_losses);"
   ]
  },
  {
   "cell_type": "markdown",
   "metadata": {},
   "source": [
    "To evaluate, explicitly set to evaluation mode, e.g. disable dropout and batchnorm"
   ]
  },
  {
   "cell_type": "code",
   "execution_count": 16,
   "metadata": {},
   "outputs": [
    {
     "data": {
      "text/plain": [
       "Net(\n",
       "  (conv1): Conv2d(1, 10, kernel_size=(5, 5), stride=(1, 1))\n",
       "  (conv2): Conv2d(10, 20, kernel_size=(5, 5), stride=(1, 1))\n",
       "  (conv2_drop): Dropout2d(p=0.5)\n",
       "  (fc1): Linear(in_features=320, out_features=50, bias=True)\n",
       "  (fc2): Linear(in_features=50, out_features=10, bias=True)\n",
       ")"
      ]
     },
     "execution_count": 16,
     "metadata": {},
     "output_type": "execute_result"
    }
   ],
   "source": [
    "model.eval()"
   ]
  },
  {
   "cell_type": "code",
   "execution_count": 30,
   "metadata": {},
   "outputs": [
    {
     "name": "stdout",
     "output_type": "stream",
     "text": [
      "Accuracy: 0.9753\n",
      "Avg loss on test set: 0.07690166027545929\n"
     ]
    }
   ],
   "source": [
    "def test():\n",
    "    test_loss, correct = 0, 0\n",
    "    with torch.no_grad():\n",
    "        for data, target in test_loader:\n",
    "            data, target = data.to(device), target.to(device)\n",
    "            output = model(data)\n",
    "            # Accumulate loss\n",
    "            test_loss += F.nll_loss(output, target, reduction=\"sum\").item()\n",
    "\n",
    "            # # keepdim=True makes the pred a 16x1 2d Tensor\n",
    "            # pred = output.argmax(1, keepdim=True)\n",
    "            # # which means we need to do view_as to reshape it to the same shape as pred (i.e. 16-element 1d Tensor)\n",
    "            # correct += pred.eq(target.view_as(pred)).sum().item()\n",
    "\n",
    "            # simpler to do\n",
    "            pred = output.argmax(dim=1)\n",
    "            correct += (pred == target).sum().item()\n",
    "\n",
    "    test_loss /= len(test_data)\n",
    "    acc = correct / len(test_data)\n",
    "    print(\"Accuracy:\", acc)\n",
    "    print(\"Avg loss on test set:\", test_loss)\n",
    "    \n",
    "test()"
   ]
  },
  {
   "cell_type": "markdown",
   "metadata": {},
   "source": [
    "Now train for several epochs"
   ]
  },
  {
   "cell_type": "code",
   "execution_count": 33,
   "metadata": {},
   "outputs": [
    {
     "name": "stdout",
     "output_type": "stream",
     "text": [
      "Accuracy: 0.9522\n",
      "Avg loss on test set: 0.15608287732601167\n",
      "Accuracy: 0.9685\n",
      "Avg loss on test set: 0.09415596387386323\n",
      "Accuracy: 0.9782\n",
      "Avg loss on test set: 0.06888121318817139\n"
     ]
    }
   ],
   "source": [
    "model = Net().to(device)\n",
    "optimizer = optim.SGD(model.parameters(), lr=0.01, momentum=0.5)\n",
    "\n",
    "train_losses = []\n",
    "\n",
    "for epoch in range(1, 4):\n",
    "    model.train()\n",
    "    for i, (data, target) in enumerate(train_loader):\n",
    "        # Move batch to device\n",
    "        data, target = data.to(device), target.to(device)\n",
    "\n",
    "        # Before collecting a new set of gradients with loss.backward() and doing \n",
    "        # backpropagation with optimiser.step(), it's necessary to manually zero \n",
    "        # the gradients of the parameters being optimised with optimiser.zero_grad()\n",
    "        optimizer.zero_grad()\n",
    "        output = model(data)\n",
    "\n",
    "        # Negative log likelihood loss\n",
    "        loss = F.nll_loss(output, target)\n",
    "        loss.backward()\n",
    "        train_losses.append(loss.item())\n",
    "        optimizer.step()\n",
    "\n",
    "        # Checkpoint every 100 batches\n",
    "        if i % 100 == 0:\n",
    "            torch.save(model.state_dict(), 'model.pth')\n",
    "            torch.save(optimizer.state_dict(), 'optimiser.pth')\n",
    "            torch.save(train_losses, 'train_losses.pth')\n",
    "    model.eval()\n",
    "    test()"
   ]
  }
 ],
 "metadata": {
  "kernelspec": {
   "display_name": "Python 3",
   "language": "python",
   "name": "python3"
  },
  "language_info": {
   "codemirror_mode": {
    "name": "ipython",
    "version": 3
   },
   "file_extension": ".py",
   "mimetype": "text/x-python",
   "name": "python",
   "nbconvert_exporter": "python",
   "pygments_lexer": "ipython3",
   "version": "3.6.3"
  }
 },
 "nbformat": 4,
 "nbformat_minor": 2
}
